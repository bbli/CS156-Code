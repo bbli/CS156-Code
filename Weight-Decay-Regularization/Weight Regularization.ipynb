{
 "cells": [
  {
   "cell_type": "code",
   "execution_count": 8,
   "metadata": {
    "collapsed": true
   },
   "outputs": [],
   "source": [
    "import WeightDecay as W"
   ]
  },
  {
   "cell_type": "code",
   "execution_count": 11,
   "metadata": {},
   "outputs": [],
   "source": [
    "path='/home/benson/Desktop/Code/CS156/Weight-Decay-Regularization/in.dta'\n",
    "datapoints,result_vector=W.datapoints_f(path)\n",
    "input_matrix=W.input_matrix_f(datapoints)\n",
    "weight_vector=W.LinReg_weight_vector_f(input_matrix,result_vector)\n",
    "in_error=W.squared_error_f(weight_vector,input_matrix,result_vector)"
   ]
  },
  {
   "cell_type": "code",
   "execution_count": 13,
   "metadata": {},
   "outputs": [],
   "source": [
    "out_path='/home/benson/Desktop/Code/CS156/Weight-Decay-Regularization/out.dta'\n",
    "out_datapoints,out_result_vector=W.datapoints_f(out_path)\n",
    "out_input_matrix=W.input_matrix_f(out_datapoints)\n",
    "out_error=W.squared_error_f(weight_vector,out_input_matrix,out_result_vector)"
   ]
  },
  {
   "cell_type": "code",
   "execution_count": 14,
   "metadata": {},
   "outputs": [
    {
     "data": {
      "text/plain": [
       "0.15419670531688215"
      ]
     },
     "execution_count": 14,
     "metadata": {},
     "output_type": "execute_result"
    },
    {
     "data": {
      "text/plain": [
       "0.27086388808575768"
      ]
     },
     "execution_count": 14,
     "metadata": {},
     "output_type": "execute_result"
    }
   ],
   "source": [
    "in_error\n",
    "out_error"
   ]
  },
  {
   "cell_type": "markdown",
   "metadata": {},
   "source": [
    "## Testing syntax"
   ]
  },
  {
   "cell_type": "code",
   "execution_count": 1,
   "metadata": {
    "collapsed": true
   },
   "outputs": [],
   "source": [
    "import pandas as pd"
   ]
  },
  {
   "cell_type": "code",
   "execution_count": 2,
   "metadata": {
    "collapsed": true
   },
   "outputs": [],
   "source": [
    "df=pd.read_csv('/home/benson/Desktop/Code/CS156/Weight-Decay-Regularization/in.dta',\n",
    "               delim_whitespace=True,names=['x','y','result'])"
   ]
  },
  {
   "cell_type": "code",
   "execution_count": 3,
   "metadata": {
    "scrolled": true
   },
   "outputs": [
    {
     "data": {
      "text/html": [
       "<div>\n",
       "<table border=\"1\" class=\"dataframe\">\n",
       "  <thead>\n",
       "    <tr style=\"text-align: right;\">\n",
       "      <th></th>\n",
       "      <th>x</th>\n",
       "      <th>y</th>\n",
       "      <th>result</th>\n",
       "    </tr>\n",
       "  </thead>\n",
       "  <tbody>\n",
       "    <tr>\n",
       "      <th>0</th>\n",
       "      <td>-0.779470</td>\n",
       "      <td>0.838221</td>\n",
       "      <td>1.0</td>\n",
       "    </tr>\n",
       "    <tr>\n",
       "      <th>1</th>\n",
       "      <td>0.155635</td>\n",
       "      <td>0.895377</td>\n",
       "      <td>1.0</td>\n",
       "    </tr>\n",
       "    <tr>\n",
       "      <th>2</th>\n",
       "      <td>-0.059908</td>\n",
       "      <td>-0.717780</td>\n",
       "      <td>1.0</td>\n",
       "    </tr>\n",
       "    <tr>\n",
       "      <th>3</th>\n",
       "      <td>0.207596</td>\n",
       "      <td>0.758933</td>\n",
       "      <td>1.0</td>\n",
       "    </tr>\n",
       "    <tr>\n",
       "      <th>4</th>\n",
       "      <td>-0.195983</td>\n",
       "      <td>-0.375487</td>\n",
       "      <td>-1.0</td>\n",
       "    </tr>\n",
       "    <tr>\n",
       "      <th>5</th>\n",
       "      <td>0.588489</td>\n",
       "      <td>-0.842554</td>\n",
       "      <td>1.0</td>\n",
       "    </tr>\n",
       "    <tr>\n",
       "      <th>6</th>\n",
       "      <td>0.007199</td>\n",
       "      <td>-0.548316</td>\n",
       "      <td>-1.0</td>\n",
       "    </tr>\n",
       "    <tr>\n",
       "      <th>7</th>\n",
       "      <td>0.738839</td>\n",
       "      <td>-0.603394</td>\n",
       "      <td>1.0</td>\n",
       "    </tr>\n",
       "    <tr>\n",
       "      <th>8</th>\n",
       "      <td>0.704648</td>\n",
       "      <td>-0.020420</td>\n",
       "      <td>1.0</td>\n",
       "    </tr>\n",
       "    <tr>\n",
       "      <th>9</th>\n",
       "      <td>0.969927</td>\n",
       "      <td>0.641371</td>\n",
       "      <td>-1.0</td>\n",
       "    </tr>\n",
       "    <tr>\n",
       "      <th>10</th>\n",
       "      <td>0.435431</td>\n",
       "      <td>0.744773</td>\n",
       "      <td>-1.0</td>\n",
       "    </tr>\n",
       "    <tr>\n",
       "      <th>11</th>\n",
       "      <td>-0.844258</td>\n",
       "      <td>0.742354</td>\n",
       "      <td>1.0</td>\n",
       "    </tr>\n",
       "    <tr>\n",
       "      <th>12</th>\n",
       "      <td>0.591425</td>\n",
       "      <td>-0.546021</td>\n",
       "      <td>1.0</td>\n",
       "    </tr>\n",
       "    <tr>\n",
       "      <th>13</th>\n",
       "      <td>-0.069093</td>\n",
       "      <td>0.037660</td>\n",
       "      <td>-1.0</td>\n",
       "    </tr>\n",
       "    <tr>\n",
       "      <th>14</th>\n",
       "      <td>-0.951549</td>\n",
       "      <td>-0.733055</td>\n",
       "      <td>-1.0</td>\n",
       "    </tr>\n",
       "    <tr>\n",
       "      <th>15</th>\n",
       "      <td>-0.129881</td>\n",
       "      <td>0.756761</td>\n",
       "      <td>1.0</td>\n",
       "    </tr>\n",
       "    <tr>\n",
       "      <th>16</th>\n",
       "      <td>-0.495346</td>\n",
       "      <td>-0.566279</td>\n",
       "      <td>-1.0</td>\n",
       "    </tr>\n",
       "    <tr>\n",
       "      <th>17</th>\n",
       "      <td>-0.903994</td>\n",
       "      <td>0.509221</td>\n",
       "      <td>1.0</td>\n",
       "    </tr>\n",
       "    <tr>\n",
       "      <th>18</th>\n",
       "      <td>0.292351</td>\n",
       "      <td>0.160890</td>\n",
       "      <td>-1.0</td>\n",
       "    </tr>\n",
       "    <tr>\n",
       "      <th>19</th>\n",
       "      <td>0.647986</td>\n",
       "      <td>-0.779338</td>\n",
       "      <td>1.0</td>\n",
       "    </tr>\n",
       "    <tr>\n",
       "      <th>20</th>\n",
       "      <td>0.375956</td>\n",
       "      <td>0.078203</td>\n",
       "      <td>-1.0</td>\n",
       "    </tr>\n",
       "    <tr>\n",
       "      <th>21</th>\n",
       "      <td>0.245890</td>\n",
       "      <td>0.004515</td>\n",
       "      <td>-1.0</td>\n",
       "    </tr>\n",
       "    <tr>\n",
       "      <th>22</th>\n",
       "      <td>-0.457192</td>\n",
       "      <td>0.423905</td>\n",
       "      <td>1.0</td>\n",
       "    </tr>\n",
       "    <tr>\n",
       "      <th>23</th>\n",
       "      <td>-0.441279</td>\n",
       "      <td>0.705719</td>\n",
       "      <td>1.0</td>\n",
       "    </tr>\n",
       "    <tr>\n",
       "      <th>24</th>\n",
       "      <td>0.507447</td>\n",
       "      <td>0.758726</td>\n",
       "      <td>-1.0</td>\n",
       "    </tr>\n",
       "    <tr>\n",
       "      <th>25</th>\n",
       "      <td>-0.132584</td>\n",
       "      <td>-0.581788</td>\n",
       "      <td>-1.0</td>\n",
       "    </tr>\n",
       "    <tr>\n",
       "      <th>26</th>\n",
       "      <td>-0.447491</td>\n",
       "      <td>0.195764</td>\n",
       "      <td>1.0</td>\n",
       "    </tr>\n",
       "    <tr>\n",
       "      <th>27</th>\n",
       "      <td>0.816582</td>\n",
       "      <td>-0.454492</td>\n",
       "      <td>1.0</td>\n",
       "    </tr>\n",
       "    <tr>\n",
       "      <th>28</th>\n",
       "      <td>-0.944224</td>\n",
       "      <td>0.882734</td>\n",
       "      <td>1.0</td>\n",
       "    </tr>\n",
       "    <tr>\n",
       "      <th>29</th>\n",
       "      <td>0.462655</td>\n",
       "      <td>0.355836</td>\n",
       "      <td>-1.0</td>\n",
       "    </tr>\n",
       "    <tr>\n",
       "      <th>30</th>\n",
       "      <td>0.883116</td>\n",
       "      <td>-0.199300</td>\n",
       "      <td>1.0</td>\n",
       "    </tr>\n",
       "    <tr>\n",
       "      <th>31</th>\n",
       "      <td>1.001605</td>\n",
       "      <td>0.525755</td>\n",
       "      <td>-1.0</td>\n",
       "    </tr>\n",
       "    <tr>\n",
       "      <th>32</th>\n",
       "      <td>0.603701</td>\n",
       "      <td>-0.545537</td>\n",
       "      <td>1.0</td>\n",
       "    </tr>\n",
       "    <tr>\n",
       "      <th>33</th>\n",
       "      <td>-0.148588</td>\n",
       "      <td>-0.213084</td>\n",
       "      <td>-1.0</td>\n",
       "    </tr>\n",
       "    <tr>\n",
       "      <th>34</th>\n",
       "      <td>0.011652</td>\n",
       "      <td>0.889239</td>\n",
       "      <td>1.0</td>\n",
       "    </tr>\n",
       "  </tbody>\n",
       "</table>\n",
       "</div>"
      ],
      "text/plain": [
       "           x         y  result\n",
       "0  -0.779470  0.838221     1.0\n",
       "1   0.155635  0.895377     1.0\n",
       "2  -0.059908 -0.717780     1.0\n",
       "3   0.207596  0.758933     1.0\n",
       "4  -0.195983 -0.375487    -1.0\n",
       "5   0.588489 -0.842554     1.0\n",
       "6   0.007199 -0.548316    -1.0\n",
       "7   0.738839 -0.603394     1.0\n",
       "8   0.704648 -0.020420     1.0\n",
       "9   0.969927  0.641371    -1.0\n",
       "10  0.435431  0.744773    -1.0\n",
       "11 -0.844258  0.742354     1.0\n",
       "12  0.591425 -0.546021     1.0\n",
       "13 -0.069093  0.037660    -1.0\n",
       "14 -0.951549 -0.733055    -1.0\n",
       "15 -0.129881  0.756761     1.0\n",
       "16 -0.495346 -0.566279    -1.0\n",
       "17 -0.903994  0.509221     1.0\n",
       "18  0.292351  0.160890    -1.0\n",
       "19  0.647986 -0.779338     1.0\n",
       "20  0.375956  0.078203    -1.0\n",
       "21  0.245890  0.004515    -1.0\n",
       "22 -0.457192  0.423905     1.0\n",
       "23 -0.441279  0.705719     1.0\n",
       "24  0.507447  0.758726    -1.0\n",
       "25 -0.132584 -0.581788    -1.0\n",
       "26 -0.447491  0.195764     1.0\n",
       "27  0.816582 -0.454492     1.0\n",
       "28 -0.944224  0.882734     1.0\n",
       "29  0.462655  0.355836    -1.0\n",
       "30  0.883116 -0.199300     1.0\n",
       "31  1.001605  0.525755    -1.0\n",
       "32  0.603701 -0.545537     1.0\n",
       "33 -0.148588 -0.213084    -1.0\n",
       "34  0.011652  0.889239     1.0"
      ]
     },
     "execution_count": 3,
     "metadata": {},
     "output_type": "execute_result"
    }
   ],
   "source": [
    "df"
   ]
  },
  {
   "cell_type": "code",
   "execution_count": 4,
   "metadata": {},
   "outputs": [
    {
     "data": {
      "text/plain": [
       "array([[-0.77947021,  0.83822138,  1.        ],\n",
       "       [ 0.15563491,  0.89537743,  1.        ],\n",
       "       [-0.0599077 , -0.71777995,  1.        ],\n",
       "       [ 0.20759636,  0.75893338,  1.        ],\n",
       "       [-0.19598312, -0.37548716, -1.        ],\n",
       "       [ 0.58848947, -0.84255381,  1.        ],\n",
       "       [ 0.00719859, -0.5483165 , -1.        ],\n",
       "       [ 0.73883852, -0.60339369,  1.        ],\n",
       "       [ 0.70464808, -0.02042005,  1.        ],\n",
       "       [ 0.96992666,  0.6413712 , -1.        ],\n",
       "       [ 0.43543099,  0.74477254, -1.        ],\n",
       "       [-0.84425822,  0.74235423,  1.        ],\n",
       "       [ 0.59142471, -0.54602118,  1.        ],\n",
       "       [-0.06909312,  0.03766   , -1.        ],\n",
       "       [-0.95154865, -0.73305502, -1.        ],\n",
       "       [-0.12988138,  0.75676096,  1.        ],\n",
       "       [-0.49534647, -0.56627908, -1.        ],\n",
       "       [-0.90399413,  0.5092215 ,  1.        ],\n",
       "       [ 0.29235128,  0.16089015, -1.        ],\n",
       "       [ 0.64798552, -0.77933769,  1.        ],\n",
       "       [ 0.37595574,  0.07820309, -1.        ],\n",
       "       [ 0.24588993,  0.00451467, -1.        ],\n",
       "       [-0.45719155,  0.42390461,  1.        ],\n",
       "       [-0.44127876,  0.70571892,  1.        ],\n",
       "       [ 0.50744669,  0.75872586, -1.        ],\n",
       "       [-0.13258381, -0.58178837, -1.        ],\n",
       "       [-0.44749067,  0.19576364,  1.        ],\n",
       "       [ 0.81658199, -0.45449182,  1.        ],\n",
       "       [-0.94422408,  0.88273421,  1.        ],\n",
       "       [ 0.46265533,  0.35583605, -1.        ],\n",
       "       [ 0.88311642, -0.19930013,  1.        ],\n",
       "       [ 1.001605  ,  0.52575476, -1.        ],\n",
       "       [ 0.60370095, -0.54553701,  1.        ],\n",
       "       [-0.14858757, -0.21308372, -1.        ],\n",
       "       [ 0.01165216,  0.88923931,  1.        ]])"
      ]
     },
     "execution_count": 4,
     "metadata": {},
     "output_type": "execute_result"
    }
   ],
   "source": [
    "test=df.as_matrix()\n",
    "test"
   ]
  },
  {
   "cell_type": "code",
   "execution_count": 7,
   "metadata": {},
   "outputs": [
    {
     "data": {
      "text/plain": [
       "35"
      ]
     },
     "execution_count": 7,
     "metadata": {},
     "output_type": "execute_result"
    }
   ],
   "source": [
    "len(test[:,2])"
   ]
  },
  {
   "cell_type": "code",
   "execution_count": null,
   "metadata": {
    "collapsed": true
   },
   "outputs": [],
   "source": []
  }
 ],
 "metadata": {
  "kernelspec": {
   "display_name": "Python 3",
   "language": "python",
   "name": "python3"
  },
  "language_info": {
   "codemirror_mode": {
    "name": "ipython",
    "version": 3
   },
   "file_extension": ".py",
   "mimetype": "text/x-python",
   "name": "python",
   "nbconvert_exporter": "python",
   "pygments_lexer": "ipython3",
   "version": "3.6.0"
  }
 },
 "nbformat": 4,
 "nbformat_minor": 2
}

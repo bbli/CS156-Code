{
 "cells": [
  {
   "cell_type": "code",
   "execution_count": 1,
   "metadata": {
    "collapsed": true
   },
   "outputs": [],
   "source": [
    "import LinearSetup as L\n",
    "import numpy as np"
   ]
  },
  {
   "cell_type": "markdown",
   "metadata": {},
   "source": [
    "## 5 and 6"
   ]
  },
  {
   "cell_type": "code",
   "execution_count": 2,
   "metadata": {
    "collapsed": true
   },
   "outputs": [],
   "source": [
    "# creates a set of random points with x's in row 1 and y's in row 2\n",
    "#random_points=L.random_points_f(100)\n",
    "#out_of_sample=L.random_points_f(1000)"
   ]
  },
  {
   "cell_type": "code",
   "execution_count": 3,
   "metadata": {
    "collapsed": true
   },
   "outputs": [],
   "source": [
    "number_of_runs=1000\n",
    "final_hypothesis_list=np.zeros((1000,3))\n",
    "frequency_of_mismatch_list=np.zeros(1000)\n",
    "out_mismatch=np.zeros(1000)\n",
    "for i in range(number_of_runs):\n",
    "    # Testing different interpretation of problem\n",
    "    random_points=L.random_points_f(100)\n",
    "    out_of_sample=L.random_points_f(1000)\n",
    "#######################################\n",
    "    random_line=L.random_line_f()\n",
    "    result_vector=L.points_assigner(random_points,random_line)\n",
    "    input_matrix=L.input_matrix_f(random_points)\n",
    "    weight_vector=L.LinReg_weight_vector_f(input_matrix,result_vector)\n",
    "    reg_line=L.reg_line_f(weight_vector)\n",
    "    ## Collection\n",
    "    frequency_of_mismatch_list[i]=L.frequency_of_mismatch_f(reg_line,random_points,result_vector)\n",
    "    final_hypothesis_list[i]=weight_vector\n",
    "    ## Out of sample calculations\n",
    "    out_vector=L.points_assigner(out_of_sample,random_line)\n",
    "    out_mismatch[i]=L.frequency_of_mismatch_f(reg_line,out_of_sample,out_vector)\n",
    "    "
   ]
  },
  {
   "cell_type": "code",
   "execution_count": 4,
   "metadata": {},
   "outputs": [
    {
     "data": {
      "text/plain": [
       "0.63175000000000003"
      ]
     },
     "execution_count": 4,
     "metadata": {},
     "output_type": "execute_result"
    },
    {
     "data": {
      "text/plain": [
       "0.63072600000000001"
      ]
     },
     "execution_count": 4,
     "metadata": {},
     "output_type": "execute_result"
    }
   ],
   "source": [
    "frequency_of_mismatch_list.mean()\n",
    "out_mismatch.mean()"
   ]
  },
  {
   "cell_type": "markdown",
   "metadata": {},
   "source": [
    "## 7"
   ]
  },
  {
   "cell_type": "code",
   "execution_count": 5,
   "metadata": {
    "collapsed": true
   },
   "outputs": [],
   "source": [
    "import sys\n",
    "sys.path.insert(0,'/home/benson/Desktop/Code/CS156/PLA')"
   ]
  },
  {
   "cell_type": "code",
   "execution_count": 6,
   "metadata": {
    "collapsed": true
   },
   "outputs": [],
   "source": [
    "import Percepton as P"
   ]
  },
  {
   "cell_type": "code",
   "execution_count": 7,
   "metadata": {
    "collapsed": true
   },
   "outputs": [],
   "source": [
    "## Setting up the inital lin reg vector\n",
    "ten_random_points=L.random_points_f(10)\n",
    "a_random_line=L.random_line_f()\n",
    "ten_result_vector=L.points_assigner(ten_random_points,a_random_line)\n",
    "ten_input_matrix=L.input_matrix_f(ten_random_points)\n",
    "ten_weight_vector=L.LinReg_weight_vector_f(ten_input_matrix,ten_result_vector)"
   ]
  },
  {
   "cell_type": "code",
   "execution_count": 8,
   "metadata": {},
   "outputs": [
    {
     "data": {
      "text/plain": [
       "[[0.3194251391623253, 0.3858626070083435, 1.0],\n",
       " [-0.33347197046350474, -0.7129004905806078, -1.0],\n",
       " [0.6510269332963141, 0.4001897525935827, 1.0],\n",
       " [0.38671586850124284, -0.15142020641829812, 1.0],\n",
       " [-0.52209164699344, 0.043954305673977734, 1.0],\n",
       " [0.5414029315156641, -0.23601696630332714, 1.0],\n",
       " [0.336660141712285, 0.439746155672438, 1.0],\n",
       " [-0.7732499563166433, -0.14500152617545448, 1.0],\n",
       " [-0.5580530910113701, -0.6639140720372623, 1.0],\n",
       " [-0.9257124997268704, -0.3523663876082346, 1.0]]"
      ]
     },
     "execution_count": 8,
     "metadata": {},
     "output_type": "execute_result"
    }
   ],
   "source": [
    "## Setting up the datapoints\n",
    "datapoints=np.zeros((3,10))\n",
    "datapoints[0:2]= ten_random_points\n",
    "## Making dataset match previous code format\n",
    "results=[]\n",
    "for i in ten_result_vector:\n",
    "    if i == 0.0:\n",
    "        results.append(-1)\n",
    "    else:\n",
    "        results.append(1)\n",
    "datapoints[2]=results\n",
    "transpose=datapoints.T\n",
    "final_datapoints=transpose.tolist()\n",
    "final_datapoints"
   ]
  },
  {
   "cell_type": "code",
   "execution_count": 9,
   "metadata": {
    "collapsed": true
   },
   "outputs": [],
   "source": [
    "PLA_vector,counter=P.PLA(ten_weight_vector,final_datapoints)"
   ]
  },
  {
   "cell_type": "code",
   "execution_count": 10,
   "metadata": {},
   "outputs": [
    {
     "data": {
      "text/plain": [
       "7"
      ]
     },
     "execution_count": 10,
     "metadata": {},
     "output_type": "execute_result"
    }
   ],
   "source": [
    "counter"
   ]
  },
  {
   "cell_type": "markdown",
   "metadata": {},
   "source": [
    "## Checking result visually"
   ]
  },
  {
   "cell_type": "code",
   "execution_count": 11,
   "metadata": {
    "collapsed": true
   },
   "outputs": [],
   "source": [
    "rl=L.random_line_f()\n",
    "rv=L.points_assigner(random_points,rl)\n",
    "im=L.input_matrix_f(random_points)\n",
    "wv=L.LinReg_weight_vector_f(im,rv)\n",
    "regline=L.reg_line_f(wv)"
   ]
  },
  {
   "cell_type": "code",
   "execution_count": 12,
   "metadata": {
    "collapsed": true
   },
   "outputs": [],
   "source": [
    "import matplotlib.pyplot as plt"
   ]
  },
  {
   "cell_type": "code",
   "execution_count": 13,
   "metadata": {},
   "outputs": [
    {
     "data": {
      "text/plain": [
       "[<matplotlib.lines.Line2D at 0x7f2185d4fac8>]"
      ]
     },
     "execution_count": 13,
     "metadata": {},
     "output_type": "execute_result"
    },
    {
     "data": {
      "text/plain": [
       "[<matplotlib.lines.Line2D at 0x7f2185dd30b8>]"
      ]
     },
     "execution_count": 13,
     "metadata": {},
     "output_type": "execute_result"
    },
    {
     "data": {
      "text/plain": [
       "<matplotlib.legend.Legend at 0x7f2185d4fcc0>"
      ]
     },
     "execution_count": 13,
     "metadata": {},
     "output_type": "execute_result"
    },
    {
     "data": {
      "image/png": "[encoded data removed]",
      "text/plain": [
       "<matplotlib.figure.Figure at 0x7f2185dd30f0>"
      ]
     },
     "metadata": {},
     "output_type": "display_data"
    }
   ],
   "source": [
    "domain=np.linspace(-1,1,10)\n",
    "plt.plot(domain,rl(domain),label='rl')\n",
    "plt.plot(domain,regline(domain),label='regline')\n",
    "plt.legend()\n",
    "plt.show()"
   ]
  },
  {
   "cell_type": "markdown",
   "metadata": {},
   "source": [
    "## Testing syntax"
   ]
  },
  {
   "cell_type": "markdown",
   "metadata": {},
   "source": [
    "> So it seems you can do high level substitution, \n",
    "as long as it conforms to already created data structure. "
   ]
  },
  {
   "cell_type": "code",
   "execution_count": 14,
   "metadata": {},
   "outputs": [
    {
     "data": {
      "text/plain": [
       "array([[ 0.,  0.,  0.],\n",
       "       [ 0.,  1.,  2.]])"
      ]
     },
     "execution_count": 14,
     "metadata": {},
     "output_type": "execute_result"
    }
   ],
   "source": [
    "## changing np element from a variable to a numpy array\n",
    "variables=np.zeros((2,3))\n",
    "array=np.arange(3)\n",
    "variables[1]=array\n",
    "variables"
   ]
  },
  {
   "cell_type": "code",
   "execution_count": 15,
   "metadata": {},
   "outputs": [
    {
     "data": {
      "text/plain": [
       "4.0"
      ]
     },
     "execution_count": 15,
     "metadata": {},
     "output_type": "execute_result"
    },
    {
     "data": {
      "text/plain": [
       "4"
      ]
     },
     "execution_count": 15,
     "metadata": {},
     "output_type": "execute_result"
    }
   ],
   "source": [
    "## np stuff\n",
    "comparison=np.ones(4)\n",
    "np.sum(comparison)\n",
    "comparison.size"
   ]
  },
  {
   "cell_type": "code",
   "execution_count": 16,
   "metadata": {},
   "outputs": [
    {
     "data": {
      "text/plain": [
       "1.5"
      ]
     },
     "execution_count": 16,
     "metadata": {},
     "output_type": "execute_result"
    }
   ],
   "source": [
    "alkja=np.arange(4)\n",
    "alkja.mean()"
   ]
  },
  {
   "cell_type": "code",
   "execution_count": 17,
   "metadata": {
    "collapsed": true
   },
   "outputs": [],
   "source": [
    "ad=np.array(1)"
   ]
  },
  {
   "cell_type": "code",
   "execution_count": 18,
   "metadata": {},
   "outputs": [
    {
     "data": {
      "text/plain": [
       "array(1)"
      ]
     },
     "execution_count": 18,
     "metadata": {},
     "output_type": "execute_result"
    },
    {
     "data": {
      "text/plain": [
       "1.0"
      ]
     },
     "execution_count": 18,
     "metadata": {},
     "output_type": "execute_result"
    }
   ],
   "source": [
    "ad\n",
    "float(ad)"
   ]
  },
  {
   "cell_type": "code",
   "execution_count": null,
   "metadata": {
    "collapsed": true
   },
   "outputs": [],
   "source": []
  }
 ],
 "metadata": {
  "kernelspec": {
   "display_name": "Python 3",
   "language": "python",
   "name": "python3"
  },
  "language_info": {
   "codemirror_mode": {
    "name": "ipython",
    "version": 3
   },
   "file_extension": ".py",
   "mimetype": "text/x-python",
   "name": "python",
   "nbconvert_exporter": "python",
   "pygments_lexer": "ipython3",
   "version": "3.6.0"
  }
 },
 "nbformat": 4,
 "nbformat_minor": 2
}

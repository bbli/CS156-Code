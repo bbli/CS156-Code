{
 "cells": [
  {
   "cell_type": "code",
   "execution_count": 1,
   "metadata": {
    "collapsed": true
   },
   "outputs": [],
   "source": [
    "import LinearSetup as L"
   ]
  },
  {
   "cell_type": "code",
   "execution_count": 6,
   "metadata": {},
   "outputs": [
    {
     "data": {
      "text/plain": [
       "array([[ 0.67221933, -0.79518481,  0.44893678,  0.16265565, -0.53511479,\n",
       "         0.21513537,  0.22914826, -0.38292243,  0.74205412,  0.92385876,\n",
       "        -0.07981455, -0.48542793, -0.51682387, -0.80605965, -0.8518727 ,\n",
       "        -0.38085498,  0.15593418, -0.73914592, -0.70389366,  0.00336007,\n",
       "         0.86393467, -0.61182749,  0.42961203, -0.88083028,  0.3656494 ,\n",
       "         0.00993767, -0.78432467, -0.99354249,  0.01820762, -0.31578495,\n",
       "        -0.45565883, -0.99709114,  0.30234069,  0.10593656,  0.05023557,\n",
       "        -0.57019074,  0.23092568, -0.07915936,  0.39993871, -0.88632563,\n",
       "         0.05803012,  0.17008321,  0.85439799,  0.86516465,  0.30973133,\n",
       "        -0.69231305, -0.31549136, -0.4310557 , -0.16884111,  0.84058225,\n",
       "        -0.45352789, -0.09025161, -0.64746045,  0.29599601, -0.60495789,\n",
       "         0.20092124,  0.91179444,  0.95179094,  0.46789454,  0.26129239,\n",
       "         0.90818399,  0.58536718,  0.12055736,  0.88003281, -0.89592116,\n",
       "         0.29661007,  0.43450032, -0.12876904,  0.61066812, -0.79705057,\n",
       "         0.98894618, -0.18273341, -0.9757155 ,  0.06974822,  0.18794547,\n",
       "         0.60297838, -0.93216815, -0.10592181,  0.78860912,  0.35194367,\n",
       "         0.70112658,  0.861486  ,  0.47397137,  0.71429042,  0.54731949,\n",
       "         0.72876803,  0.30397572,  0.25127661, -0.50889597, -0.80832296,\n",
       "         0.60799411, -0.07371343, -0.39772851, -0.27046867, -0.51203947,\n",
       "         0.42310349, -0.10201728, -0.53250784, -0.9443162 ,  0.51223449],\n",
       "       [-0.1698309 , -0.63743685, -0.14761467, -0.04437876, -0.74680029,\n",
       "         0.30284752, -0.78852356,  0.46896492,  0.67891464,  0.232203  ,\n",
       "        -0.89620283,  0.16194893,  0.86842892,  0.48823919, -0.35476064,\n",
       "        -0.07719967,  0.53584575,  0.7984928 ,  0.03486115,  0.82730659,\n",
       "         0.83241658, -0.39171768, -0.25156353,  0.07533743, -0.8479354 ,\n",
       "         0.31945496,  0.69184281, -0.85040245, -0.50654153, -0.22870624,\n",
       "        -0.49081056,  0.25299948, -0.75422376,  0.69749557, -0.80231789,\n",
       "        -0.29334698,  0.84485578,  0.12918514,  0.24891082, -0.73622414,\n",
       "        -0.87257503, -0.32109361, -0.90175552,  0.14828345, -0.13111408,\n",
       "        -0.06240799,  0.42301742,  0.85149888, -0.68478479,  0.83983256,\n",
       "        -0.66383867,  0.65544828, -0.07897094, -0.44640109,  0.63333018,\n",
       "         0.95180062, -0.0800365 , -0.64256207,  0.04685874,  0.997989  ,\n",
       "        -0.93764666,  0.89342149, -0.50274018, -0.61744793,  0.29296209,\n",
       "         0.67379504, -0.7498245 ,  0.70047232, -0.77399879, -0.53172018,\n",
       "         0.31046285,  0.19505395, -0.3024548 , -0.8517189 , -0.22900195,\n",
       "         0.46859596,  0.21751497, -0.77015798, -0.14410388, -0.28689945,\n",
       "        -0.74838038, -0.98401058, -0.4297227 , -0.67523074,  0.47170582,\n",
       "        -0.06809799,  0.94374442,  0.75099555, -0.06155636, -0.85689604,\n",
       "         0.79410924, -0.28296224, -0.34814352,  0.66530423, -0.1081618 ,\n",
       "        -0.21463641,  0.30478295,  0.15200462,  0.75093265, -0.76006065]])"
      ]
     },
     "execution_count": 6,
     "metadata": {},
     "output_type": "execute_result"
    }
   ],
   "source": [
    "dataset=L.random_points(100)\n",
    "dataset"
   ]
  },
  {
   "cell_type": "code",
   "execution_count": 3,
   "metadata": {
    "collapsed": true
   },
   "outputs": [],
   "source": [
    "random_line=L.random_line()"
   ]
  },
  {
   "cell_type": "code",
   "execution_count": 4,
   "metadata": {
    "scrolled": true
   },
   "outputs": [
    {
     "data": {
      "text/plain": [
       "array([ 0.,  0.,  1.,  1.,  1.,  0.,  0.,  1.,  1.,  0.,  1.,  0.,  1.,\n",
       "        0.,  1.,  1.,  1.,  1.,  1.,  1.,  1.,  1.,  1.,  0.,  1.,  0.,\n",
       "        1.,  1.,  0.,  1.,  1.,  1.,  0.,  1.,  0.,  1.,  1.,  0.,  1.,\n",
       "        1.,  1.,  0.,  1.,  0.,  1.,  1.,  1.,  1.,  1.,  0.,  0.,  1.,\n",
       "        0.,  0.,  1.,  0.,  1.,  1.,  1.,  1.,  1.,  0.,  0.,  1.,  0.,\n",
       "        0.,  0.,  0.,  0.,  0.,  1.,  1.,  1.,  0.,  0.,  1.,  1.,  0.,\n",
       "        0.,  1.,  0.,  1.,  1.,  1.,  1.,  0.,  1.,  0.,  1.,  1.,  1.,\n",
       "        0.,  1.,  1.,  0.,  1.,  0.,  1.,  0.,  1.])"
      ]
     },
     "execution_count": 4,
     "metadata": {},
     "output_type": "execute_result"
    }
   ],
   "source": [
    "final_result=L.points_assigner(dataset,random_line)\n",
    "final_result"
   ]
  },
  {
   "cell_type": "code",
   "execution_count": 5,
   "metadata": {},
   "outputs": [
    {
     "data": {
      "text/plain": [
       "array([-0.76901443])"
      ]
     },
     "execution_count": 5,
     "metadata": {},
     "output_type": "execute_result"
    },
    {
     "ename": "NameError",
     "evalue": "name 'np' is not defined",
     "output_type": "error",
     "traceback": [
      "\u001b[0;31m---------------------------------------------\u001b[0m",
      "\u001b[0;31mNameError\u001b[0m   Traceback (most recent call last)",
      "\u001b[0;32m<ipython-input-5-e3dfbc069fb3>\u001b[0m in \u001b[0;36m<module>\u001b[0;34m()\u001b[0m\n\u001b[1;32m      3\u001b[0m \u001b[0mm\u001b[0m \u001b[0;34m=\u001b[0m \u001b[0mrandom_line\u001b[0m\u001b[0;34m(\u001b[0m\u001b[0;36m1\u001b[0m\u001b[0;34m)\u001b[0m \u001b[0;34m-\u001b[0m \u001b[0mb\u001b[0m\u001b[0;34m\u001b[0m\u001b[0m\n\u001b[1;32m      4\u001b[0m \u001b[0mb\u001b[0m\u001b[0;34m-\u001b[0m\u001b[0mm\u001b[0m\u001b[0;34m\u001b[0m\u001b[0m\n\u001b[0;32m----> 5\u001b[0;31m \u001b[0mb\u001b[0m\u001b[0;34m/\u001b[0m\u001b[0mm\u001b[0m\u001b[0;34m*\u001b[0m\u001b[0mnp\u001b[0m\u001b[0;34m.\u001b[0m\u001b[0mones\u001b[0m\u001b[0;34m(\u001b[0m\u001b[0;36m3\u001b[0m\u001b[0;34m)\u001b[0m\u001b[0;34m\u001b[0m\u001b[0m\n\u001b[0m\u001b[1;32m      6\u001b[0m \u001b[0mnp\u001b[0m\u001b[0;34m.\u001b[0m\u001b[0marange\u001b[0m\u001b[0;34m(\u001b[0m\u001b[0;36m2\u001b[0m\u001b[0;34m)\u001b[0m\u001b[0;34m-\u001b[0m\u001b[0mnp\u001b[0m\u001b[0;34m.\u001b[0m\u001b[0marray\u001b[0m\u001b[0;34m(\u001b[0m\u001b[0;36m1\u001b[0m\u001b[0;34m)\u001b[0m\u001b[0;34m\u001b[0m\u001b[0m\n",
      "\u001b[0;31mNameError\u001b[0m: name 'np' is not defined"
     ]
    }
   ],
   "source": [
    "## Testing random line numpy array behavior \n",
    "b = random_line(0)\n",
    "m = random_line(1) - b\n",
    "b-m\n",
    "b/m*np.ones(3)\n",
    "np.arange(2)-np.array(1)"
   ]
  },
  {
   "cell_type": "code",
   "execution_count": null,
   "metadata": {},
   "outputs": [],
   "source": [
    "import matplotlib.pyplot as plt\n",
    "domain=np.linspace(-1,1,10)\n",
    "plt.plot(domain,random_line(domain))\n",
    "plt.show()"
   ]
  },
  {
   "cell_type": "code",
   "execution_count": null,
   "metadata": {
    "collapsed": true
   },
   "outputs": [],
   "source": [
    "import pickle\n",
    "with open(\"LinReg.pickle\", \"wb\") as f:\n",
    "    pickle.dump([final_result,b,m],f)"
   ]
  },
  {
   "cell_type": "markdown",
   "metadata": {},
   "source": [
    "## Testing syntax"
   ]
  },
  {
   "cell_type": "code",
   "execution_count": null,
   "metadata": {
    "collapsed": true
   },
   "outputs": [],
   "source": [
    "import numpy as np"
   ]
  },
  {
   "cell_type": "code",
   "execution_count": null,
   "metadata": {
    "collapsed": true
   },
   "outputs": [],
   "source": [
    "asff=np.random.random(size=(2,3))"
   ]
  },
  {
   "cell_type": "code",
   "execution_count": null,
   "metadata": {
    "collapsed": true
   },
   "outputs": [],
   "source": [
    "asx,asy=asff.shape"
   ]
  },
  {
   "cell_type": "code",
   "execution_count": null,
   "metadata": {
    "scrolled": true
   },
   "outputs": [],
   "source": [
    "## Testing how numpy integrates bool types. \n",
    "# Apparantly it changes them to 1 or 0\n",
    "asff[1][0]=True\n",
    "\n",
    "asff"
   ]
  },
  {
   "cell_type": "code",
   "execution_count": null,
   "metadata": {},
   "outputs": [],
   "source": [
    "asff[0:1,:]"
   ]
  },
  {
   "cell_type": "code",
   "execution_count": 15,
   "metadata": {},
   "outputs": [
    {
     "ename": "SyntaxError",
     "evalue": "invalid syntax (<ipython-input-15-5dca01244862>, line 1)",
     "output_type": "error",
     "traceback": [
      "\u001b[0;36m  File \u001b[0;32m\"<ipython-input-15-5dca01244862>\"\u001b[0;36m, line \u001b[0;32m1\u001b[0m\n\u001b[0;31m    def test>():\u001b[0m\n\u001b[0m            ^\u001b[0m\n\u001b[0;31mSyntaxError\u001b[0m\u001b[0;31m:\u001b[0m invalid syntax\n"
     ]
    }
   ],
   "source": [
    "def ():\n",
    "    return 5"
   ]
  }
 ],
 "metadata": {
  "kernelspec": {
   "display_name": "Python 3",
   "language": "python",
   "name": "python3"
  },
  "language_info": {
   "codemirror_mode": {
    "name": "ipython",
    "version": 3
   },
   "file_extension": ".py",
   "mimetype": "text/x-python",
   "name": "python",
   "nbconvert_exporter": "python",
   "pygments_lexer": "ipython3",
   "version": "3.6.0"
  }
 },
 "nbformat": 4,
 "nbformat_minor": 2
}

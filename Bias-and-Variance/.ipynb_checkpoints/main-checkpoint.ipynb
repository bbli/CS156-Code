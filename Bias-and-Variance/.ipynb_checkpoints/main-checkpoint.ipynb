{
 "cells": [
  {
   "cell_type": "code",
   "execution_count": 1,
   "metadata": {
    "collapsed": true
   },
   "outputs": [],
   "source": [
    "import LineCreator as L\n",
    "import numpy as np"
   ]
  },
  {
   "cell_type": "code",
   "execution_count": 2,
   "metadata": {
    "collapsed": true
   },
   "outputs": [],
   "source": [
    "output_list=np.zeros(10000)\n",
    "variance_list=np.zeros(10000)"
   ]
  },
  {
   "cell_type": "markdown",
   "metadata": {},
   "source": [
    "## 5 and 6"
   ]
  },
  {
   "cell_type": "code",
   "execution_count": 3,
   "metadata": {
    "scrolled": true
   },
   "outputs": [
    {
     "data": {
      "text/plain": [
       "1.4292041902338128"
      ]
     },
     "execution_count": 3,
     "metadata": {},
     "output_type": "execute_result"
    },
    {
     "data": {
      "text/plain": [
       "0.7173542807148271"
      ]
     },
     "execution_count": 3,
     "metadata": {},
     "output_type": "execute_result"
    }
   ],
   "source": [
    "for i in range(10000):\n",
    "    random_points,result_vector=L.generated_points_f()\n",
    "    input_matrix=L.input_matrix_f(random_points)\n",
    "    weight_vector=L.Lin_weight_vector_f(input_matrix,result_vector)\n",
    "    ## Collecting the weight vector\n",
    "    output_list[i]=weight_vector\n",
    "    ## Collecting the variance\n",
    "    variance_list[i]=(weight_vector-1.416)**2\n",
    "    \n",
    "output_list.mean()\n",
    "variance_list.mean()"
   ]
  },
  {
   "cell_type": "markdown",
   "metadata": {},
   "source": [
    "## 7"
   ]
  },
  {
   "cell_type": "markdown",
   "metadata": {},
   "source": [
    "#### y=b hypothesis"
   ]
  },
  {
   "cell_type": "code",
   "execution_count": 4,
   "metadata": {
    "collapsed": true
   },
   "outputs": [],
   "source": [
    "b_output_list=np.zeros(10000)\n",
    "b_variance_list=np.zeros(10000)"
   ]
  },
  {
   "cell_type": "code",
   "execution_count": 5,
   "metadata": {},
   "outputs": [
    {
     "data": {
      "text/plain": [
       "-0.0057882009982552947"
      ]
     },
     "execution_count": 5,
     "metadata": {},
     "output_type": "execute_result"
    },
    {
     "data": {
      "text/plain": [
       "0.25084056704373675"
      ]
     },
     "execution_count": 5,
     "metadata": {},
     "output_type": "execute_result"
    }
   ],
   "source": [
    "for i in range(10000):\n",
    "    random_points,result_vector=L.generated_points_f()\n",
    "    weight_vector=L.constant_vector_f(result_vector)\n",
    "    ## Collecting the weight vector\n",
    "    b_output_list[i]=weight_vector\n",
    "    ## Collecting the variance\n",
    "    b_variance_list[i]=(weight_vector)**2\n",
    "    \n",
    "b_output_list.mean()\n",
    "b_variance_list.mean()"
   ]
  },
  {
   "cell_type": "markdown",
   "metadata": {},
   "source": [
    "#### y=ax+b hypothesis"
   ]
  },
  {
   "cell_type": "code",
   "execution_count": 6,
   "metadata": {
    "collapsed": true
   },
   "outputs": [],
   "source": [
    "axb_a_list=np.zeros(10000)\n",
    "axb_b_list=np.zeros(10000)"
   ]
  },
  {
   "cell_type": "code",
   "execution_count": 7,
   "metadata": {
    "scrolled": false
   },
   "outputs": [
    {
     "data": {
      "text/plain": [
       "0.75699211253261578"
      ]
     },
     "execution_count": 7,
     "metadata": {},
     "output_type": "execute_result"
    },
    {
     "data": {
      "text/plain": [
       "-0.014572152465719307"
      ]
     },
     "execution_count": 7,
     "metadata": {},
     "output_type": "execute_result"
    }
   ],
   "source": [
    "for i in range(10000):\n",
    "    random_points,result_vector=L.generated_points_f()\n",
    "    appended_input_matrix=L.appended_input_matrix_f(random_points)\n",
    "    weight_vector=L.LinReg_weight_vector_f(appended_input_matrix,result_vector)\n",
    "    ## Collecting the weight vector\n",
    "    axb_a_list[i]=weight_vector[1]\n",
    "    ## Collecting the variance\n",
    "    axb_b_list[i]=weight_vector[0]\n",
    "    \n",
    "axb_a_list.mean()\n",
    "axb_b_list.mean()"
   ]
  },
  {
   "cell_type": "code",
   "execution_count": 9,
   "metadata": {},
   "outputs": [
    {
     "data": {
      "text/plain": [
       "numpy.ndarray"
      ]
     },
     "execution_count": 9,
     "metadata": {},
     "output_type": "execute_result"
    },
    {
     "data": {
      "text/plain": [
       "0.027935672361696681"
      ]
     },
     "execution_count": 9,
     "metadata": {},
     "output_type": "execute_result"
    },
    {
     "data": {
      "text/plain": [
       "2.8934255247736025"
      ]
     },
     "execution_count": 9,
     "metadata": {},
     "output_type": "execute_result"
    },
    {
     "data": {
      "text/plain": [
       "0.9365747753220407"
      ]
     },
     "execution_count": 9,
     "metadata": {},
     "output_type": "execute_result"
    }
   ],
   "source": [
    "type(axb_a_list)\n",
    "(axb_a_list*axb_b_list).mean()\n",
    "(axb_a_list**2).mean()\n",
    "(axb_b_list**2).mean()"
   ]
  },
  {
   "cell_type": "code",
   "execution_count": null,
   "metadata": {
    "collapsed": true
   },
   "outputs": [],
   "source": []
  }
 ],
 "metadata": {
  "kernelspec": {
   "display_name": "Python 3",
   "language": "python",
   "name": "python3"
  },
  "language_info": {
   "codemirror_mode": {
    "name": "ipython",
    "version": 3
   },
   "file_extension": ".py",
   "mimetype": "text/x-python",
   "name": "python",
   "nbconvert_exporter": "python",
   "pygments_lexer": "ipython3",
   "version": "3.6.0"
  }
 },
 "nbformat": 4,
 "nbformat_minor": 2
}

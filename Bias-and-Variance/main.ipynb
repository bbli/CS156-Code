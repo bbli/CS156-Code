{
 "cells": [
  {
   "cell_type": "code",
   "execution_count": 1,
   "metadata": {
    "collapsed": true
   },
   "outputs": [],
   "source": [
    "import LineCreator as L\n",
    "import numpy as np"
   ]
  },
  {
   "cell_type": "code",
   "execution_count": 2,
   "metadata": {
    "collapsed": true
   },
   "outputs": [],
   "source": [
    "output_list=np.zeros(10000)\n",
    "variance_list=np.zeros(10000)"
   ]
  },
  {
   "cell_type": "markdown",
   "metadata": {},
   "source": [
    "## 5 and 6"
   ]
  },
  {
   "cell_type": "code",
   "execution_count": 3,
   "metadata": {
    "scrolled": true
   },
   "outputs": [
    {
     "data": {
      "text/plain": [
       "1.422740484391823"
      ]
     },
     "execution_count": 3,
     "metadata": {},
     "output_type": "execute_result"
    },
    {
     "data": {
      "text/plain": [
       "0.70447556273887113"
      ]
     },
     "execution_count": 3,
     "metadata": {},
     "output_type": "execute_result"
    }
   ],
   "source": [
    "for i in range(10000):\n",
    "    random_points,result_vector=L.generated_points_f()\n",
    "    input_matrix=L.input_matrix_f(random_points)\n",
    "    weight_vector=L.Lin_weight_vector_f(input_matrix,result_vector)\n",
    "    ## Collecting the weight vector\n",
    "    output_list[i]=weight_vector\n",
    "    ## Collecting the variance\n",
    "    variance_list[i]=(weight_vector-1.416)**2\n",
    "    \n",
    "output_list.mean()\n",
    "variance_list.mean()"
   ]
  },
  {
   "cell_type": "markdown",
   "metadata": {},
   "source": [
    "## 7"
   ]
  },
  {
   "cell_type": "markdown",
   "metadata": {},
   "source": [
    "#### y=b hypothesis"
   ]
  },
  {
   "cell_type": "code",
   "execution_count": 4,
   "metadata": {
    "collapsed": true
   },
   "outputs": [],
   "source": [
    "b_output_list=np.zeros(10000)\n",
    "b_variance_list=np.zeros(10000)"
   ]
  },
  {
   "cell_type": "code",
   "execution_count": 5,
   "metadata": {},
   "outputs": [
    {
     "data": {
      "text/plain": [
       "-0.0046497972346789323"
      ]
     },
     "execution_count": 5,
     "metadata": {},
     "output_type": "execute_result"
    },
    {
     "data": {
      "text/plain": [
       "0.2460011361404171"
      ]
     },
     "execution_count": 5,
     "metadata": {},
     "output_type": "execute_result"
    }
   ],
   "source": [
    "for i in range(10000):\n",
    "    random_points,result_vector=L.generated_points_f()\n",
    "    weight_vector=L.constant_vector_f(result_vector)\n",
    "    ## Collecting the weight vector\n",
    "    b_output_list[i]=weight_vector\n",
    "    ## Collecting the variance\n",
    "    b_variance_list[i]=(weight_vector)**2\n",
    "    \n",
    "b_output_list.mean()\n",
    "b_variance_list.mean()"
   ]
  },
  {
   "cell_type": "markdown",
   "metadata": {},
   "source": [
    "#### y=ax+b hypothesis"
   ]
  },
  {
   "cell_type": "code",
   "execution_count": 6,
   "metadata": {
    "collapsed": true
   },
   "outputs": [],
   "source": [
    "axb_a_list=np.zeros(10000)\n",
    "axb_b_list=np.zeros(10000)"
   ]
  },
  {
   "cell_type": "code",
   "execution_count": 7,
   "metadata": {
    "scrolled": false
   },
   "outputs": [
    {
     "data": {
      "text/plain": [
       "0.79060832748438392"
      ]
     },
     "execution_count": 7,
     "metadata": {},
     "output_type": "execute_result"
    },
    {
     "data": {
      "text/plain": [
       "-0.0081820849906330956"
      ]
     },
     "execution_count": 7,
     "metadata": {},
     "output_type": "execute_result"
    }
   ],
   "source": [
    "for i in range(10000):\n",
    "    random_points,result_vector=L.generated_points_f()\n",
    "    appended_input_matrix=L.appended_input_matrix_f(random_points)\n",
    "    weight_vector=L.LinReg_weight_vector_f(appended_input_matrix,result_vector)\n",
    "    ## Collecting the weight vector\n",
    "    axb_a_list[i]=weight_vector[1]\n",
    "    ## Collecting the variance\n",
    "    axb_b_list[i]=weight_vector[0]\n",
    "    \n",
    "axb_a_list.mean()\n",
    "axb_b_list.mean()"
   ]
  },
  {
   "cell_type": "code",
   "execution_count": 8,
   "metadata": {},
   "outputs": [
    {
     "data": {
      "text/plain": [
       "numpy.ndarray"
      ]
     },
     "execution_count": 8,
     "metadata": {},
     "output_type": "execute_result"
    },
    {
     "data": {
      "text/plain": [
       "0.02093483714623065"
      ]
     },
     "execution_count": 8,
     "metadata": {},
     "output_type": "execute_result"
    },
    {
     "data": {
      "text/plain": [
       "2.9198184074846196"
      ]
     },
     "execution_count": 8,
     "metadata": {},
     "output_type": "execute_result"
    },
    {
     "data": {
      "text/plain": [
       "0.9040079968404714"
      ]
     },
     "execution_count": 8,
     "metadata": {},
     "output_type": "execute_result"
    }
   ],
   "source": [
    "type(axb_a_list)\n",
    "(axb_a_list*axb_b_list).mean()\n",
    "(axb_a_list**2).mean()\n",
    "(axb_b_list**2).mean()"
   ]
  },
  {
   "cell_type": "markdown",
   "metadata": {
    "collapsed": true
   },
   "source": [
    "#### y=ax^2 hypothesis"
   ]
  },
  {
   "cell_type": "code",
   "execution_count": 9,
   "metadata": {},
   "outputs": [],
   "source": [
    "ax2_a_list=np.zeros(10000)"
   ]
  },
  {
   "cell_type": "code",
   "execution_count": 10,
   "metadata": {},
   "outputs": [
    {
     "data": {
      "text/plain": [
       "0.19613110450849508"
      ]
     },
     "execution_count": 10,
     "metadata": {},
     "output_type": "execute_result"
    },
    {
     "data": {
      "text/plain": [
       "116.17551755740594"
      ]
     },
     "execution_count": 10,
     "metadata": {},
     "output_type": "execute_result"
    }
   ],
   "source": [
    "for i in range(10000):\n",
    "    random_points,result_vector=L.generated_points_f()\n",
    "    nonlinear_input_matrix=L.nonlinear_input_matrix_f(random_points)\n",
    "    weight_vector=L.Lin_weight_vector_f(nonlinear_input_matrix,result_vector)\n",
    "    ## Collecting the weight vector\n",
    "    ax2_a_list[i]=weight_vector\n",
    "    \n",
    "ax2_a_list.mean()\n",
    "(ax2_a_list**2).mean()"
   ]
  },
  {
   "cell_type": "code",
   "execution_count": 11,
   "metadata": {},
   "outputs": [
    {
     "data": {
      "text/plain": [
       "array([ 0.19961651,  0.23828862,  0.34171798, ...,  0.50239751,\n",
       "       -0.31702   , -9.05456102])"
      ]
     },
     "execution_count": 11,
     "metadata": {},
     "output_type": "execute_result"
    }
   ],
   "source": [
    "ax2_a_list"
   ]
  },
  {
   "cell_type": "markdown",
   "metadata": {},
   "source": [
    "#### y=ax^2+b hypothesis"
   ]
  },
  {
   "cell_type": "code",
   "execution_count": 12,
   "metadata": {
    "collapsed": true
   },
   "outputs": [],
   "source": [
    "ax2b_a_list=np.zeros(100000)\n",
    "ax2b_b_list=np.zeros(100000)"
   ]
  },
  {
   "cell_type": "code",
   "execution_count": 13,
   "metadata": {},
   "outputs": [
    {
     "data": {
      "text/plain": [
       "0.0097399981361448208"
      ]
     },
     "execution_count": 13,
     "metadata": {},
     "output_type": "execute_result"
    },
    {
     "data": {
      "text/plain": [
       "-0.014547567360465844"
      ]
     },
     "execution_count": 13,
     "metadata": {},
     "output_type": "execute_result"
    }
   ],
   "source": [
    "for i in range(10000):\n",
    "    random_points,result_vector=L.generated_points_f()\n",
    "    random_points_2=L.nonlinear_input_matrix_f(random_points)\n",
    "    appended_input_matrix=L.appended_input_matrix_f(random_points_2.T)\n",
    "    weight_vector=L.LinReg_weight_vector_f(appended_input_matrix,result_vector)\n",
    "    ## Collecting the weight vector\n",
    "    ax2b_a_list[i]=weight_vector[1]\n",
    "    ## Collecting the variance\n",
    "    ax2b_b_list[i]=weight_vector[0]\n",
    "    \n",
    "ax2b_a_list.mean()\n",
    "ax2b_b_list.mean()"
   ]
  },
  {
   "cell_type": "code",
   "execution_count": 14,
   "metadata": {},
   "outputs": [
    {
     "data": {
      "text/plain": [
       "-299.94036875298218"
      ]
     },
     "execution_count": 14,
     "metadata": {},
     "output_type": "execute_result"
    },
    {
     "data": {
      "text/plain": [
       "2805.1229034432622"
      ]
     },
     "execution_count": 14,
     "metadata": {},
     "output_type": "execute_result"
    },
    {
     "data": {
      "text/plain": [
       "75.962583353966934"
      ]
     },
     "execution_count": 14,
     "metadata": {},
     "output_type": "execute_result"
    }
   ],
   "source": [
    "(ax2b_a_list*ax2b_b_list).mean()\n",
    "(ax2b_a_list**2).mean()\n",
    "(ax2b_b_list**2).mean()"
   ]
  }
 ],
 "metadata": {
  "kernelspec": {
   "display_name": "Python 3",
   "language": "python",
   "name": "python3"
  },
  "language_info": {
   "codemirror_mode": {
    "name": "ipython",
    "version": 3
   },
   "file_extension": ".py",
   "mimetype": "text/x-python",
   "name": "python",
   "nbconvert_exporter": "python",
   "pygments_lexer": "ipython3",
   "version": "3.6.0"
  }
 },
 "nbformat": 4,
 "nbformat_minor": 2
}

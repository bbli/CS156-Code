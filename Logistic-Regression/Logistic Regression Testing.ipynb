{
 "cells": [
  {
   "cell_type": "code",
   "execution_count": 1,
   "metadata": {
    "collapsed": true
   },
   "outputs": [],
   "source": [
    "import LogRegression as L\n",
    "import numpy as np\n",
    "import sympy as sp\n",
    "sp.init_printing(use_latex=True)"
   ]
  },
  {
   "cell_type": "code",
   "execution_count": 2,
   "metadata": {
    "collapsed": true
   },
   "outputs": [],
   "source": [
    "w1, w2, w3=sp.symbols('w1 w2 w3')"
   ]
  },
  {
   "cell_type": "markdown",
   "metadata": {},
   "source": [
    "## error testing"
   ]
  },
  {
   "cell_type": "code",
   "execution_count": 3,
   "metadata": {},
   "outputs": [
    {
     "data": {
      "image/png": "[encoded data removed]",
      "text/latex": [
       "$$3.74165738677$$"
      ],
      "text/plain": [
       "3.74165738677"
      ]
     },
     "execution_count": 3,
     "metadata": {},
     "output_type": "execute_result"
    }
   ],
   "source": [
    "## This should return sqrt(14)=3.74165\n",
    "test_state_1=np.array([0,0,0])\n",
    "test_state_2=np.array([1,2,3])\n",
    "L.error(test_state_1,test_state_2)"
   ]
  },
  {
   "cell_type": "markdown",
   "metadata": {},
   "source": [
    "## s_innerproduct"
   ]
  },
  {
   "cell_type": "code",
   "execution_count": 4,
   "metadata": {},
   "outputs": [
    {
     "data": {
      "image/png": "[encoded data removed]",
      "text/latex": [
       "$$1.0 w_{1} + 1.0 w_{2} + 2.0 w_{3}$$"
      ],
      "text/plain": [
       "1.0⋅w₁ + 1.0⋅w₂ + 2.0⋅w₃"
      ]
     },
     "execution_count": 4,
     "metadata": {},
     "output_type": "execute_result"
    }
   ],
   "source": [
    "## This should return w1+w2+2*w3\n",
    "L.s_innerproduct(np.array([1,1,2]))"
   ]
  },
  {
   "cell_type": "markdown",
   "metadata": {},
   "source": [
    "## ln_creator"
   ]
  },
  {
   "cell_type": "code",
   "execution_count": 5,
   "metadata": {
    "scrolled": true
   },
   "outputs": [
    {
     "data": {
      "image/png": "[encoded data removed]",
      "text/latex": [
       "$$\\log{\\left (e^{1.0 w_{1} + 1.0 w_{2} + 2.0 w_{3}} + 1 \\right )}$$"
      ],
      "text/plain": [
       "   ⎛ 1.0⋅w₁ + 1.0⋅w₂ + 2.0⋅w₃    ⎞\n",
       "log⎝ℯ                         + 1⎠"
      ]
     },
     "execution_count": 5,
     "metadata": {},
     "output_type": "execute_result"
    }
   ],
   "source": [
    "## this should return ln(1+exp(-(w1+w2+2w3)))\n",
    "test_ln_creator=L.ln_creator(np.array([1,1,2]),-1)\n",
    "test_ln_creator"
   ]
  },
  {
   "cell_type": "markdown",
   "metadata": {},
   "source": [
    "## gradient(test gradient_list only if nesscary)"
   ]
  },
  {
   "cell_type": "code",
   "execution_count": 6,
   "metadata": {
    "scrolled": false
   },
   "outputs": [
    {
     "data": {
      "image/png": "[encoded data removed]",
      "text/latex": [
       "$$\\frac{1.0 e^{1.0 w_{1} + 1.0 w_{2} + 2.0 w_{3}}}{e^{1.0 w_{1} + 1.0 w_{2} + 2.0 w_{3}} + 1}$$"
      ],
      "text/plain": [
       "     1.0⋅w₁ + 1.0⋅w₂ + 2.0⋅w₃\n",
       "1.0⋅ℯ                        \n",
       "─────────────────────────────\n",
       " 1.0⋅w₁ + 1.0⋅w₂ + 2.0⋅w₃    \n",
       "ℯ                         + 1"
      ]
     },
     "execution_count": 6,
     "metadata": {},
     "output_type": "execute_result"
    }
   ],
   "source": [
    "## This should return exp(-(w1+w2+2w3)/(1+exp(-(w1+w2+2w3)))\n",
    "diff_test_ln_creator=sp.diff(test_ln_creator,w1)\n",
    "diff_test_ln_creator"
   ]
  },
  {
   "cell_type": "markdown",
   "metadata": {},
   "source": [
    "## eval_gradient"
   ]
  },
  {
   "cell_type": "code",
   "execution_count": 7,
   "metadata": {},
   "outputs": [
    {
     "data": {
      "text/plain": [
       "array([ 4.0,  2.0,  0.0], dtype=float128)"
      ]
     },
     "execution_count": 7,
     "metadata": {},
     "output_type": "execute_result"
    }
   ],
   "source": [
    "test_gradient=[w1+w2+w3,w1-w2+w3,w1+w2-w3]\n",
    "test_state=np.array([1,1,2])\n",
    "L.eval_gradient(test_gradient, test_state)"
   ]
  },
  {
   "cell_type": "markdown",
   "metadata": {},
   "source": [
    "## error_function_list_f"
   ]
  },
  {
   "cell_type": "code",
   "execution_count": 15,
   "metadata": {
    "scrolled": true
   },
   "outputs": [
    {
     "data": {
      "image/png": "[encoded data removed]",
      "text/latex": [
       "$$\\log{\\left (e^{- 1.0 w_{2} - 2.0 w_{3}} + 1 \\right )}$$"
      ],
      "text/plain": [
       "   ⎛ -1.0⋅w₂ - 2.0⋅w₃    ⎞\n",
       "log⎝ℯ                 + 1⎠"
      ]
     },
     "execution_count": 15,
     "metadata": {},
     "output_type": "execute_result"
    }
   ],
   "source": [
    "test_input_matrix=np.arange(9).reshape(3,3)\n",
    "test_result_vector=np.ones(3)\n",
    "test_error_function_list=L.error_function_list_f(test_input_matrix,test_result_vector)\n",
    "test_error_function_list[0]"
   ]
  },
  {
   "cell_type": "markdown",
   "metadata": {},
   "source": [
    "## eval_error"
   ]
  },
  {
   "cell_type": "code",
   "execution_count": 9,
   "metadata": {},
   "outputs": [
    {
     "data": {
      "image/png": "[encoded data removed]",
      "text/latex": [
       "$$0.6931471805599453$$"
      ],
      "text/plain": [
       "0.6931471805599453"
      ]
     },
     "execution_count": 9,
     "metadata": {},
     "output_type": "execute_result"
    }
   ],
   "source": [
    "## This should return ln(2)=0.69314\n",
    "L.eval_error(test_error_function_list[0],np.array([1,0,0]))"
   ]
  },
  {
   "cell_type": "markdown",
   "metadata": {
    "collapsed": true
   },
   "source": [
    "## Testing syntax"
   ]
  },
  {
   "cell_type": "code",
   "execution_count": 10,
   "metadata": {
    "collapsed": true
   },
   "outputs": [],
   "source": [
    "asd=sp.diff(w1**2,w1)\n",
    "asdf=sp.diff(w2**2,w2)"
   ]
  },
  {
   "cell_type": "code",
   "execution_count": 11,
   "metadata": {
    "collapsed": true
   },
   "outputs": [],
   "source": [
    "tup=(asd,asdf)"
   ]
  },
  {
   "cell_type": "code",
   "execution_count": 12,
   "metadata": {
    "collapsed": true
   },
   "outputs": [],
   "source": [
    "perm_index=np.random.permutation(100)\n"
   ]
  },
  {
   "cell_type": "code",
   "execution_count": 13,
   "metadata": {},
   "outputs": [
    {
     "data": {
      "text/plain": [
       "numpy.ndarray"
      ]
     },
     "execution_count": 13,
     "metadata": {},
     "output_type": "execute_result"
    }
   ],
   "source": [
    "type(perm_index)"
   ]
  },
  {
   "cell_type": "code",
   "execution_count": 14,
   "metadata": {},
   "outputs": [
    {
     "name": "stdout",
     "output_type": "stream",
     "text": [
      "99\n",
      "55\n",
      "74\n",
      "89\n",
      "83\n",
      "82\n",
      "38\n",
      "59\n",
      "84\n",
      "53\n",
      "25\n",
      "70\n",
      "66\n",
      "49\n",
      "28\n",
      "85\n",
      "45\n",
      "63\n",
      "37\n",
      "76\n",
      "69\n",
      "4\n",
      "12\n",
      "56\n",
      "87\n",
      "13\n",
      "47\n",
      "98\n",
      "23\n",
      "68\n",
      "40\n",
      "41\n",
      "9\n",
      "62\n",
      "32\n",
      "27\n",
      "42\n",
      "3\n",
      "86\n",
      "33\n",
      "39\n",
      "43\n",
      "79\n",
      "16\n",
      "72\n",
      "20\n",
      "22\n",
      "58\n",
      "31\n",
      "94\n",
      "7\n",
      "93\n",
      "96\n",
      "24\n",
      "36\n",
      "50\n",
      "97\n",
      "67\n",
      "14\n",
      "81\n",
      "1\n",
      "0\n",
      "46\n",
      "64\n",
      "26\n",
      "52\n",
      "29\n",
      "57\n",
      "34\n",
      "54\n",
      "78\n",
      "75\n",
      "30\n",
      "35\n",
      "90\n",
      "80\n",
      "8\n",
      "19\n",
      "6\n",
      "88\n",
      "60\n",
      "92\n",
      "51\n",
      "73\n",
      "11\n",
      "17\n",
      "18\n",
      "91\n",
      "5\n",
      "44\n",
      "2\n",
      "95\n",
      "77\n",
      "61\n",
      "71\n",
      "21\n",
      "10\n",
      "48\n",
      "65\n",
      "15\n"
     ]
    }
   ],
   "source": [
    "for i in perm_index:\n",
    "    print(i)"
   ]
  },
  {
   "cell_type": "code",
   "execution_count": null,
   "metadata": {
    "collapsed": true
   },
   "outputs": [],
   "source": []
  }
 ],
 "metadata": {
  "kernelspec": {
   "display_name": "Python 3",
   "language": "python",
   "name": "python3"
  },
  "language_info": {
   "codemirror_mode": {
    "name": "ipython",
    "version": 3
   },
   "file_extension": ".py",
   "mimetype": "text/x-python",
   "name": "python",
   "nbconvert_exporter": "python",
   "pygments_lexer": "ipython3",
   "version": "3.6.0"
  }
 },
 "nbformat": 4,
 "nbformat_minor": 2
}
